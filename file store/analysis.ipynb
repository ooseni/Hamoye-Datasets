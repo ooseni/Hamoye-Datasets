{
 "cells": [
  {
   "cell_type": "markdown",
   "id": "fe315365",
   "metadata": {},
   "source": [
    "# <center>PHARMACY SITING ANALYSIS</center>"
   ]
  },
  {
   "cell_type": "markdown",
   "id": "b6e4ebf1",
   "metadata": {},
   "source": [
    "### PROJECT DETAILS\n",
    "\n",
    "Filing station is known to attract constant flow of traffic throughout the day, this research intends to discover if setting up pharmacies in filing stations by assessing the perceptions of stakeholders on the appropriateness of siting community pharmacies in Fuel Stations. \n",
    "\n",
    "Using a 5-point Likert scale of 1 (strongly disagree) to 5 (strongly agree), and 2.5 as cut-off score between \n",
    "positive perception (>2.5) and negative perception (<2.5).\n",
    "\n",
    "The analysis would present a composite score of all respondent groups on this matter: \n",
    "\n",
    "1. Pharmacists, \n",
    "2. Regulators, \n",
    "3. Customers, \n",
    "4. Fuel Station owners. \n",
    "\n",
    "* Pharmacist would have their states compressed into 6 geo-political zones and then filter out the perception of respondents vis-a-vis their composite perception. \n",
    "\n",
    "    * Secondly, among pharmacists, comparison of their \n",
    "        * practice settings: community, hospital, academia, administrative; and their respective perception (response to this effect).\n",
    "        * educational qualifications B.Pharm/Msc/FPCPharm/PhD with perceptions. \n",
    "\n",
    "* Regulators' perception in terms of either positive or negative. \n",
    "* Customers' perception in terms of either positive or negative. "
   ]
  },
  {
   "cell_type": "markdown",
   "id": "7f5a0f08",
   "metadata": {},
   "source": [
    "### ANALYSIS GUIDE\n",
    "The following needs to be achieved\n",
    "\n",
    "1. Groupby occupation as pharmacist using the following datasets (site, cust, and owner)\n",
    "    * Under this grouping, further apply a groupby method to get the respective geopolitical zones and calculate the mean value\n",
    "        * If greater than 2.5, then remark is positive, else negative\n",
    "    * Under this grouping, apply another groupby method on practice setting and calculate the mean value\n",
    "        * If greater than 2.5, then remark is positive, else negative\n",
    "    * Under this grouping, apply another groupby method on educational qualification\n",
    "\n",
    "2. Use the reg dataset to and calculate the mean value\n",
    "    * If greater than 2.5, then remark is positive, else negative\n",
    "\n",
    "3. Use the cust dataset to and calculate the mean value\n",
    "    * If greater than 2.5, then remark is positive, else negative\n",
    "\n",
    "4. Add any other visualization such as gender grouping, geopolitical grouping, occupational grouping etc."
   ]
  },
  {
   "cell_type": "code",
   "execution_count": 1,
   "id": "65f3d355",
   "metadata": {},
   "outputs": [],
   "source": [
    "# import libraries\n",
    "import pandas as pd\n",
    "from matplotlib import pyplot as plt\n",
    "import numpy as np\n",
    "import seaborn as sns"
   ]
  },
  {
   "cell_type": "code",
   "execution_count": 2,
   "id": "ea2a925c",
   "metadata": {},
   "outputs": [],
   "source": [
    "site = pd.read_csv('SITING A COMMUNITY PHARMACY (CP) IN A FUEL STATION (FS) IN NIGERIA (Responses) - Form Responses 1.csv')\n",
    "reg = pd.read_csv('Regulators form (Responses) - Form Responses 1.csv')\n",
    "cust = pd.read_csv('Customers of Fuel Stations - Form Responses 1.csv')\n",
    "owner = pd.read_csv('Owners of Fuel Stations(Responses) - Form Responses 1.csv')"
   ]
  },
  {
   "cell_type": "markdown",
   "id": "e8d61295",
   "metadata": {},
   "source": [
    "* To aid better understanding of the four dataset, previewing the columns in each is necessary"
   ]
  },
  {
   "cell_type": "code",
   "execution_count": 3,
   "id": "4d231da1",
   "metadata": {},
   "outputs": [
    {
     "name": "stdout",
     "output_type": "stream",
     "text": [
      "0 -> Timestamp\n",
      "1 -> Email Address\n",
      "2 -> Please indicate your free consent to participate in this survey\n",
      "3 -> Please indicate your specialty in pharmacy practice\n",
      "4 -> Indicate your Sex\n",
      "5 -> Indicate your Age Range (in years, as at your last birth day)\n",
      "6 -> Please indicate your Highest Educational Qualification\n",
      "7 -> What is your Employment Status? (Please choose only one option)\n",
      "8 -> For how long have you practiced as a Pharmacist (Years)? \n",
      "9 -> In which State of Nigeria do you currently practice as a pharmacist?\n",
      "10 -> If you are a community pharmacist, how would you describe the location of your practice?\n",
      "11 -> To what extent do you agree with the following statements? [1. Siting CPs in FSs will expand access to pharmacy services for customers]\n",
      "12 -> To what extent do you agree with the following statements? [2. Siting CPs in FSs will improve customer convenience]\n",
      "13 -> To what extent do you agree with the following statements? [+t]\n",
      "14 -> To what extent do you agree with the following statements? [4. Siting CPs in FSs will reduce clustering of CPs in certain locations]\n",
      "15 -> To what extent do you agree with the following statements? [5. CPs located in FSs can open for longer hours and weekends]\n",
      "16 -> To what extent do you agree with the following statements? [6. Environment of a FS will pose health risk to CP personnel]\n",
      "17 -> To what extent do you agree with the following statements? [7. Environment of a FS will pose significant risk to integrity of pharmaceutical products]\n",
      "18 -> To what extent do you agree with the following statements? [8. Siting CPs in FSs will improve visibility of the pharmacies]\n",
      "19 -> To what extent do you agree with the following statements? [9. Siting CPs in FSs will reduce operational cost of the pharmacies]\n",
      "20 -> To what extent do you agree with the following statements? [10. There is need for special insurance covers for CPs sited in FSs]\n",
      "21 -> To what extent do you agree with the following statements? [11. Siting CPs within FSs will likely cause conflicts between regulators of the pharmaceutical and petroleum industries]\n",
      "22 -> To what extent do you agree with the following statements? [12. There is nothing wrong in siting CPs within FSs]\n",
      "23 -> To what extent do you agree with the following statements? [13. I will not like to own a pharmacy within a FS]\n",
      "24 -> To what extent do you agree with the following statements? [14. I will not like to work in a pharmacy located within a FS]\n",
      "25 -> To what extent do you agree with the following statements? [15. Customers will not like to patronize CPs sited within FSs]\n",
      "26 -> To what extent do you agree with the following statements? [16. Environment of the FS will impede workflow in the CPs]\n",
      "27 -> To what extent do you agree with the following statements? [17. Siting CPs in FSs will reduce the quality of patient care rendered by the pharmacist]\n",
      "28 -> To what extent do you agree with the following statements? [18. Environment of FS will limit the variety of medicine brands a pharmacist can stock]\n",
      "29 -> To what extent do you agree with the following statements? [19. CPs sited in FSs will require special storage conditions for medicines ]\n",
      "30 -> To what extent do you agree with the following statements? [20. Availability of CPs in rural FSs will help bridge inequities between urban and rural communities]\n",
      "31 -> To what extent do you agree with the following statements? [3. Siting of CPs in FSs will make medicines less affordable to patients]\n",
      "32 -> Unnamed: 32\n",
      "33 -> Score\n"
     ]
    }
   ],
   "source": [
    "# siting data\n",
    "for x, col in enumerate(site.columns):\n",
    "    print(x, '->', col)"
   ]
  },
  {
   "cell_type": "code",
   "execution_count": 4,
   "id": "a1e3250e",
   "metadata": {},
   "outputs": [
    {
     "name": "stdout",
     "output_type": "stream",
     "text": [
      "0 -> Timestamp\n",
      "1 -> Email Address\n",
      "2 -> Please indicate your free consent to participate in this survey\n",
      "3 -> Age in Years (as at your last birthday)\n",
      "4 -> Sex\n",
      "5 -> Nature of Employment\n",
      "6 -> Place of Employment\n",
      "7 -> Length of Regulatory Industry Experience (Years)\n",
      "8 -> Highest Educational Qualification\n",
      "9 ->  [There should be a legal framework to guide the siting of Community Pharmacies in Fuel Stations]\n",
      "10 ->  [Pharmacy Council of Nigeria alone should regulate the operation of Pharmacies in Fuel Stations]\n",
      "11 ->  [Nigerian Midstream and Downstream Petroleum Regulatory Authority should not regulate the operation of Pharmacies in Fuel Stations]\n",
      "12 ->  [National Environmental Standards and Regulations Enforcement Authority should not prescribe any special standards for Community Pharmacies within Fuel Stations]\n",
      "13 ->  [Siting Pharmacies at fuel stations will likely cause conflicts between regulators of the pharmaceutical and petroleum industries]\n",
      "14 ->  [I see nothing wrong in siting Community Pharmacies in Fuel Stations]\n",
      "15 ->  [I support the siting of Community Pharmacies in Fuel Stations ]\n",
      "16 ->  [Siting Community Pharmacies in Fuel Stations will not adversely affect the quality of medicines sold in the pharmacies]\n",
      "17 ->  [Special safety measures are necessary for the safe operation of Community Pharmacies within Fuel Stations]\n",
      "18 ->  [Presence of a Pharmacy will not disturb normal operations of my fuel station]\n"
     ]
    }
   ],
   "source": [
    "# regulator dataset\n",
    "for x, col in enumerate(reg.columns):\n",
    "    print(x, '->', col)"
   ]
  },
  {
   "cell_type": "code",
   "execution_count": 5,
   "id": "9d0af834",
   "metadata": {},
   "outputs": [
    {
     "name": "stdout",
     "output_type": "stream",
     "text": [
      "0 -> Timestamp\n",
      "1 -> Email Address\n",
      "2 -> Score\n",
      "3 -> Unnamed: 3\n",
      "4 -> Kindly indicate your free consent to participate in this survey\n",
      "5 -> Unnamed: 5\n",
      "6 -> olaniyanayinde@gmail.com\n",
      "7 -> Unnamed: 7\n",
      "8 -> Sex: Please indicate your sex\n",
      "9 -> Age: Please indicate your age (in years) as at your last birthday\n",
      "10 -> Highest Educational Qualification\n",
      "11 -> How long (Years) have you been a customer to Fuel Stations? \n",
      "12 -> Please indicate in which State of Nigeria you are currently resident\n",
      "13 -> [Siting Pharmacies at Fuel Stations will improve Community access to pharmacy services]\n",
      "14 ->  [I feel safe enough to take my family to a Pharmacy sited at a Fuel Station]\n",
      "15 ->  [I support that Pharmacies should be sited at fuel Stations]\n",
      "16 ->  [Presence of a Pharmacy will make the Fuel Station a one-stop shop for many family needs]\n",
      "17 ->  [Pharmacies located at fuel Stations can open for longer hours and weekends]\n",
      "18 ->  [The environment of a Fuel Station will likely pose significant health risks to customers of the pharmacy]\n",
      "19 ->  [The environment of a Fuel Station will likely reduce the quality of medicines sold there]\n",
      "20 ->  [There is need to monitor the air quality within Pharmacies sited at fuel Stations]\n",
      "21 ->  [There is need for special safety measures for Pharmacies sited at fuel Stations]\n",
      "22 ->  [I see nothing wrong in siting Pharmacies at fuel Stations]\n",
      "23 ->  [I would not like to buy my medicines from a Pharmacy at a Fuel Station]\n",
      "24 ->  [Siting Pharmacies at fuel Stations will make medicines more expensive]\n",
      "25 ->  [The environment of a Fuel Station will not affect the quality of care given by my pharmacist]\n",
      "26 ->  [Row 14]\n",
      "27 ->  [Row 15]\n",
      "28 -> Unnamed: 28\n"
     ]
    }
   ],
   "source": [
    "# customers data\n",
    "for x, col in enumerate(cust.columns):\n",
    "    print(x, '->', col)"
   ]
  },
  {
   "cell_type": "code",
   "execution_count": 6,
   "id": "52feb901",
   "metadata": {
    "scrolled": false
   },
   "outputs": [
    {
     "name": "stdout",
     "output_type": "stream",
     "text": [
      "0 -> Timestamp\n",
      "1 -> Email Address\n",
      "2 -> Please state your informed consent to participate in this survey\n",
      "3 -> Sex : Please indicate your sex\n",
      "4 -> Age: Please indicate your age range (Years) as at your last birthday\n",
      "5 -> Highest Educational Qualification\n",
      "6 -> Employment Status\n",
      "7 -> How long (Years) have you been in Fuel Station Business?\n",
      "8 -> In which State of Nigeria is your Fuel Station located?\n",
      "9 -> Please describe he location of your Fuel Station\n",
      "10 -> STATEMENT [Siting Pharmacies at fuel stations will attract more customers to the station]\n",
      "11 -> STATEMENT [Siting Pharmacies at fuel stations will improve customer convenience]\n",
      "12 -> STATEMENT [Siting Pharmacies at fuel stations will make medicines less affordable to patients]\n",
      "13 -> STATEMENT [I see nothing wrong in siting Pharmacies at fuel stations]\n",
      "14 -> STATEMENT [Pharmacies located at fuel stations can open for longer hours and weekends]\n",
      "15 -> STATEMENT [Environment of a fuel station will reduce quality of services rendered by the pharmacy]\n",
      "16 -> STATEMENT [Environment of a FS will pose significant risk to quality of pharmaceutical products]\n",
      "17 -> STATEMENT [I doubt if my customers will patronize a pharmacy located within my fuel station]\n",
      "18 -> STATEMENT [Presence of a Pharmacy will improve reputation of my fuel station]\n",
      "19 -> STATEMENT [Siting Pharmacies at fuel stations will likely cause conflicts between regulators of the pharmaceutical and petroleum industries]\n",
      "20 -> STATEMENT [Presence of a Pharmacy will not disturb normal operations of my fuel station]\n",
      "21 -> STATEMENT [I will like to have a pharmacy located at my fuel station]\n",
      "22 -> STATEMENT [Siting a Pharmacy in my fuel station will improve profitability of my business]\n",
      "23 -> STATEMENT [I support the idea of siting Community Pharmacies at fuel stations]\n"
     ]
    }
   ],
   "source": [
    "for x, col in enumerate(owner.columns):\n",
    "    print(x, '->', col)"
   ]
  },
  {
   "cell_type": "markdown",
   "id": "3f6e971a",
   "metadata": {},
   "source": [
    "#### Fix the response rating\n",
    "Using 1 for strongly disagree to 5 strongly agree.\n",
    "\n",
    "Columns affect:\n",
    "* Site data will start from column 11 to column 31\n",
    "* Regulator data will start from column 9 to 18\n",
    "* Customer data will start from column 13 to 25\n",
    "* Owner data will start from column 10 to 23"
   ]
  },
  {
   "cell_type": "code",
   "execution_count": 7,
   "id": "9b5b5946",
   "metadata": {},
   "outputs": [],
   "source": [
    "# apply ratings scale as described in the project description\n",
    "choice = {'Strongly Disagree' : 1, 'Disagree' : 2, 'Cannot Say' : 3, 'Agree' : 4, 'Strongly Agree' : 5, ' ' : 0}\n",
    "def scaler(df, idx_start, idx_end):\n",
    "    for col in df.columns[idx_start:idx_end+1]:\n",
    "        string = col.split('[')\n",
    "        string = string[-1][:-1]\n",
    "        df[col] = df[col].fillna(' ')\n",
    "        created = []\n",
    "        for x, value in enumerate(df[col]):\n",
    "            value = value.strip()\n",
    "            result = choice.get(value)\n",
    "            created.append(result)\n",
    "        df = df.rename(columns={col : string})\n",
    "        df[string] = created\n",
    "    return df\n",
    "\n",
    "# apply the function\n",
    "site = scaler(site, 11, 31)\n",
    "reg = scaler(reg, 9, 18)\n",
    "cust = scaler(cust, 13, 25)\n",
    "owner = scaler(owner, 10, 23)"
   ]
  },
  {
   "cell_type": "code",
   "execution_count": 8,
   "id": "228af603",
   "metadata": {},
   "outputs": [
    {
     "data": {
      "text/plain": [
       "0    5.0\n",
       "1    5.0\n",
       "2    5.0\n",
       "3    5.0\n",
       "4    1.0\n",
       "Name: 1. Siting CPs in FSs will expand access to pharmacy services for customers, dtype: float64"
      ]
     },
     "execution_count": 8,
     "metadata": {},
     "output_type": "execute_result"
    }
   ],
   "source": [
    "#preview the result\n",
    "site['1. Siting CPs in FSs will expand access to pharmacy services for customers'].head()"
   ]
  },
  {
   "cell_type": "markdown",
   "id": "df5c317a",
   "metadata": {},
   "source": [
    "North Central: Benue, Kogi, Kwara, Nasarawa, Niger, Plateau States, FCT/Abuja.\n",
    "North East: Adamawa, Bauchi, Borno, Gombe, Taraba, Yobe States\n",
    "North West: Jigawa, Kaduna, Kano, Katsina, Kebbi, Sokoto, Zamfara States\n",
    "South East: Abia, Anambra, Ebonyi, Enugu, Imo States\n",
    "South South: Akwa Ibom, Bayelsa, Cross River, Delta, Edo, Rivers States\n",
    "South West: Ekiti, Lagos, Ogun, Ondo, Osun, Oyo States"
   ]
  },
  {
   "cell_type": "code",
   "execution_count": 9,
   "id": "3b6cd084",
   "metadata": {},
   "outputs": [],
   "source": [
    "# geo-political zones\n",
    "south_south = [\"Akwa Ibom\", \"Bayelsa\", \"Cross River\", \"Delta\", \"Edo\", \"Rivers\"]\n",
    "south_west = [\"Ekiti\", \"Lagos\", \"Ogun\", \"Ondo\", \"Osun\", \"Oyo\"]\n",
    "south_east = [\"Abia\", \"Anambra\", \"Ebonyi\", \"Enugu\", \"Imo\"]\n",
    "north_west = [\"Jigawa\", \"Kaduna\", \"Kano\", \"Katsina\", \"Kebbi\", \"Sokoto\", \"Zamfara\"]\n",
    "north_east = [\"Adamawa\", \"Bauchi\", \"Borno\", \"Gombe\", \"Taraba\", \"Yobe\"]\n",
    "north_central = [\"Benue\", \"Kogi\", \"Kwara\", \"Nasarawa\", \"Niger\", \"Plateau\", \"Federal Capital Territory\", \"Abuja FCT\"]\n",
    "\n",
    "region_map = {'South South' : south_south, 'South West' : south_west, 'South East' : south_east,\n",
    "             'North Central' : north_central, 'North East' : north_east, 'North West' : north_west}\n",
    "\n",
    "def geoMapper(df):\n",
    "    for col in df.columns:\n",
    "        if 'State' in col:\n",
    "            df[col].fillna(' ', inplace=True)\n",
    "            created = []\n",
    "            for value in df[col]:\n",
    "                value = value.strip()\n",
    "                if 'State' in value:\n",
    "                    value = value.split(' ')\n",
    "                    value = value[0]\n",
    "                if len(value) < 3:\n",
    "                    result = 'Unknown'\n",
    "                else:\n",
    "                    result = [x for x in region_map for y in region_map.get(x) if (value in y or value[:-1] in y)]\n",
    "                created.append(result[-1])\n",
    "            df['Geopolitical zone'] = created\n",
    "\n",
    "# apply the function            \n",
    "geoMapper(site)\n",
    "geoMapper(cust)\n",
    "geoMapper(owner)"
   ]
  },
  {
   "cell_type": "code",
   "execution_count": 10,
   "id": "7cc25921",
   "metadata": {},
   "outputs": [
    {
     "data": {
      "text/plain": [
       "0    South West\n",
       "1    South West\n",
       "2    South West\n",
       "3    North West\n",
       "4    North West\n",
       "Name: Geopolitical zone, dtype: object"
      ]
     },
     "execution_count": 10,
     "metadata": {},
     "output_type": "execute_result"
    }
   ],
   "source": [
    "#preview the result \n",
    "site['Geopolitical zone'].head()"
   ]
  },
  {
   "cell_type": "code",
   "execution_count": 11,
   "id": "caa043a7",
   "metadata": {},
   "outputs": [
    {
     "data": {
      "text/plain": [
       "0     South West\n",
       "1    South South\n",
       "2     South West\n",
       "3     South West\n",
       "4     South West\n",
       "Name: Geopolitical zone, dtype: object"
      ]
     },
     "execution_count": 11,
     "metadata": {},
     "output_type": "execute_result"
    }
   ],
   "source": [
    "cust['Geopolitical zone'].head()"
   ]
  },
  {
   "cell_type": "code",
   "execution_count": 12,
   "id": "66ae57e3",
   "metadata": {
    "scrolled": true
   },
   "outputs": [
    {
     "data": {
      "text/plain": [
       "0    North West\n",
       "1    North West\n",
       "2    North East\n",
       "3    North East\n",
       "4    South West\n",
       "Name: Geopolitical zone, dtype: object"
      ]
     },
     "execution_count": 12,
     "metadata": {},
     "output_type": "execute_result"
    }
   ],
   "source": [
    "owner['Geopolitical zone'].head()"
   ]
  },
  {
   "cell_type": "markdown",
   "id": "a1144ba4",
   "metadata": {},
   "source": [
    "## <center>YOUR CODES FROM HERE</center>\n",
    "Replace this heading with your name for proper referencing in the final draft.\n"
   ]
  },
  {
   "cell_type": "code",
   "execution_count": null,
   "id": "2d5f6943",
   "metadata": {},
   "outputs": [],
   "source": []
  }
 ],
 "metadata": {
  "kernelspec": {
   "display_name": "Python 3 (ipykernel)",
   "language": "python",
   "name": "python3"
  },
  "language_info": {
   "codemirror_mode": {
    "name": "ipython",
    "version": 3
   },
   "file_extension": ".py",
   "mimetype": "text/x-python",
   "name": "python",
   "nbconvert_exporter": "python",
   "pygments_lexer": "ipython3",
   "version": "3.11.1"
  }
 },
 "nbformat": 4,
 "nbformat_minor": 5
}
